{
  "nbformat": 4,
  "nbformat_minor": 0,
  "metadata": {
    "colab": {
      "provenance": []
    },
    "kernelspec": {
      "name": "python3",
      "display_name": "Python 3"
    },
    "language_info": {
      "name": "python"
    }
  },
  "cells": [
    {
      "cell_type": "markdown",
      "source": [
        "# **Python Web Scraping (Introduction)**"
      ],
      "metadata": {
        "id": "Xytn533lg_M7"
      }
    },
    {
      "cell_type": "markdown",
      "source": [
        "Web scraping is the process of extracting data from websites. It involves using a tool or script to send HTTP requests to a website, parse the HTML, and extract the desired information"
      ],
      "metadata": {
        "id": "LsBrx5i3fDcr"
      }
    },
    {
      "cell_type": "markdown",
      "source": [
        "libraries: Install the necessary Python libraries:\n",
        "\n",
        "* **requests:** To send HTTP requests.\n",
        "* **BeautifulSoup:** To parse HTML and extract data.\n",
        "* **pandas:** To store and manipulate the data (optional, for structured data)"
      ],
      "metadata": {
        "id": "GYmeNKKOfIXS"
      }
    },
    {
      "cell_type": "code",
      "execution_count": 1,
      "metadata": {
        "colab": {
          "base_uri": "https://localhost:8080/"
        },
        "id": "K8E4LcZmcsdR",
        "outputId": "fe12a0e2-522a-4628-be89-157ca9d3ba8e"
      },
      "outputs": [
        {
          "output_type": "stream",
          "name": "stdout",
          "text": [
            "Requirement already satisfied: requests in /usr/local/lib/python3.11/dist-packages (2.32.3)\n",
            "Requirement already satisfied: beautifulsoup4 in /usr/local/lib/python3.11/dist-packages (4.12.3)\n",
            "Requirement already satisfied: pandas in /usr/local/lib/python3.11/dist-packages (2.2.2)\n",
            "Requirement already satisfied: charset-normalizer<4,>=2 in /usr/local/lib/python3.11/dist-packages (from requests) (3.4.1)\n",
            "Requirement already satisfied: idna<4,>=2.5 in /usr/local/lib/python3.11/dist-packages (from requests) (3.10)\n",
            "Requirement already satisfied: urllib3<3,>=1.21.1 in /usr/local/lib/python3.11/dist-packages (from requests) (2.3.0)\n",
            "Requirement already satisfied: certifi>=2017.4.17 in /usr/local/lib/python3.11/dist-packages (from requests) (2024.12.14)\n",
            "Requirement already satisfied: soupsieve>1.2 in /usr/local/lib/python3.11/dist-packages (from beautifulsoup4) (2.6)\n",
            "Requirement already satisfied: numpy>=1.23.2 in /usr/local/lib/python3.11/dist-packages (from pandas) (1.26.4)\n",
            "Requirement already satisfied: python-dateutil>=2.8.2 in /usr/local/lib/python3.11/dist-packages (from pandas) (2.8.2)\n",
            "Requirement already satisfied: pytz>=2020.1 in /usr/local/lib/python3.11/dist-packages (from pandas) (2024.2)\n",
            "Requirement already satisfied: tzdata>=2022.7 in /usr/local/lib/python3.11/dist-packages (from pandas) (2024.2)\n",
            "Requirement already satisfied: six>=1.5 in /usr/local/lib/python3.11/dist-packages (from python-dateutil>=2.8.2->pandas) (1.17.0)\n"
          ]
        }
      ],
      "source": [
        "pip install requests beautifulsoup4 pandas"
      ]
    },
    {
      "cell_type": "markdown",
      "source": [
        "# **Step 1: Import Necessary Libraries**"
      ],
      "metadata": {
        "id": "DJMbzbgufh2B"
      }
    },
    {
      "cell_type": "code",
      "source": [
        "import requests\n",
        "from bs4 import BeautifulSoup\n",
        "import pandas as pd\n"
      ],
      "metadata": {
        "id": "UZzv-yepfjby"
      },
      "execution_count": 2,
      "outputs": []
    },
    {
      "cell_type": "markdown",
      "source": [
        "# **Step 2: Send a Request to the Web Page**"
      ],
      "metadata": {
        "id": "pJry-nIMfoRc"
      }
    },
    {
      "cell_type": "code",
      "source": [
        "# Use the requests library to fetch the content of the webpage.\n",
        "\n",
        "# We'll send a request to fetch the content from http://quotes.toscrape.com.\n",
        "\n",
        "url = 'http://quotes.toscrape.com'\n",
        "response = requests.get(url)\n",
        "\n",
        "# Check if the request was successful\n",
        "if response.status_code == 200:\n",
        "    print(\"Successfully fetched the web page!\")\n",
        "else:\n",
        "    print(f\"Failed to fetch the web page. Status Code: {response.status_code}\")\n"
      ],
      "metadata": {
        "colab": {
          "base_uri": "https://localhost:8080/"
        },
        "id": "N4DHL47yfno_",
        "outputId": "f5fba5a1-acb0-473c-9ff2-90bcd4824018"
      },
      "execution_count": 3,
      "outputs": [
        {
          "output_type": "stream",
          "name": "stdout",
          "text": [
            "Successfully fetched the web page!\n"
          ]
        }
      ]
    },
    {
      "cell_type": "markdown",
      "source": [
        "Explanation:\n",
        "* requests.get(url) sends an HTTP GET request to the URL.\n",
        "* response.status_code checks if the request was successful (status code 200 indicates success)."
      ],
      "metadata": {
        "id": "WLYQYgXGgA51"
      }
    },
    {
      "cell_type": "markdown",
      "source": [
        "# **Step 3: Parse the HTML Content**"
      ],
      "metadata": {
        "id": "23Px1KmXgeH8"
      }
    },
    {
      "cell_type": "markdown",
      "source": [
        "We'll use BeautifulSoup to parse the HTML content of the webpage."
      ],
      "metadata": {
        "id": "RvDradaMggzY"
      }
    },
    {
      "cell_type": "code",
      "source": [
        "soup = BeautifulSoup(response.text, 'html.parser')\n",
        "\n",
        "# Print the title of the page\n",
        "print(soup.title.string)\n"
      ],
      "metadata": {
        "colab": {
          "base_uri": "https://localhost:8080/"
        },
        "id": "FAMi90rVgE2O",
        "outputId": "24473d50-a09a-47c7-d687-bf6a9ec5aa10"
      },
      "execution_count": 4,
      "outputs": [
        {
          "output_type": "stream",
          "name": "stdout",
          "text": [
            "Quotes to Scrape\n"
          ]
        }
      ]
    },
    {
      "cell_type": "markdown",
      "source": [
        "Explanation:\n",
        "* BeautifulSoup(response.text, 'html.parser') parses the HTML content.\n",
        "* soup.title.string extracts and prints the title of the page."
      ],
      "metadata": {
        "id": "CmHSpCYpgoHY"
      }
    },
    {
      "cell_type": "markdown",
      "source": [
        "# **Step 4: Find and Extract Data**"
      ],
      "metadata": {
        "id": "mVyJ38ykgsTL"
      }
    },
    {
      "cell_type": "markdown",
      "source": [
        "We'll extract quotes, authors, and tags from the webpage."
      ],
      "metadata": {
        "id": "u3mpl7zdgwh3"
      }
    },
    {
      "cell_type": "code",
      "source": [
        "quotes_data = []\n",
        "\n",
        "# Find all quote blocks\n",
        "quotes = soup.find_all('div', class_='quote')\n",
        "\n",
        "for quote in quotes:\n",
        "    text = quote.find('span', class_='text').text\n",
        "    author = quote.find('small', class_='author').text\n",
        "    tags = [tag.text for tag in quote.find_all('a', class_='tag')]\n",
        "\n",
        "    quotes_data.append({\n",
        "        'Quote': text,\n",
        "        'Author': author,\n",
        "        'Tags': ', '.join(tags)\n",
        "    })\n",
        "\n",
        "# Display the extracted data\n",
        "for data in quotes_data:\n",
        "    print(data)\n"
      ],
      "metadata": {
        "colab": {
          "base_uri": "https://localhost:8080/"
        },
        "id": "WUl6CD-lgvBC",
        "outputId": "147b0edd-5f50-4eb7-edbd-7e2669eb527a"
      },
      "execution_count": 5,
      "outputs": [
        {
          "output_type": "stream",
          "name": "stdout",
          "text": [
            "{'Quote': '“The world as we have created it is a process of our thinking. It cannot be changed without changing our thinking.”', 'Author': 'Albert Einstein', 'Tags': 'change, deep-thoughts, thinking, world'}\n",
            "{'Quote': '“It is our choices, Harry, that show what we truly are, far more than our abilities.”', 'Author': 'J.K. Rowling', 'Tags': 'abilities, choices'}\n",
            "{'Quote': '“There are only two ways to live your life. One is as though nothing is a miracle. The other is as though everything is a miracle.”', 'Author': 'Albert Einstein', 'Tags': 'inspirational, life, live, miracle, miracles'}\n",
            "{'Quote': '“The person, be it gentleman or lady, who has not pleasure in a good novel, must be intolerably stupid.”', 'Author': 'Jane Austen', 'Tags': 'aliteracy, books, classic, humor'}\n",
            "{'Quote': \"“Imperfection is beauty, madness is genius and it's better to be absolutely ridiculous than absolutely boring.”\", 'Author': 'Marilyn Monroe', 'Tags': 'be-yourself, inspirational'}\n",
            "{'Quote': '“Try not to become a man of success. Rather become a man of value.”', 'Author': 'Albert Einstein', 'Tags': 'adulthood, success, value'}\n",
            "{'Quote': '“It is better to be hated for what you are than to be loved for what you are not.”', 'Author': 'André Gide', 'Tags': 'life, love'}\n",
            "{'Quote': \"“I have not failed. I've just found 10,000 ways that won't work.”\", 'Author': 'Thomas A. Edison', 'Tags': 'edison, failure, inspirational, paraphrased'}\n",
            "{'Quote': \"“A woman is like a tea bag; you never know how strong it is until it's in hot water.”\", 'Author': 'Eleanor Roosevelt', 'Tags': 'misattributed-eleanor-roosevelt'}\n",
            "{'Quote': '“A day without sunshine is like, you know, night.”', 'Author': 'Steve Martin', 'Tags': 'humor, obvious, simile'}\n"
          ]
        }
      ]
    },
    {
      "cell_type": "markdown",
      "source": [
        "Explanation:\n",
        "* soup.find_all('div', class_='quote') finds all div elements with the class quote.\n",
        "* quote.find('span', class_='text').text extracts the quote text.\n",
        "* quote.find('small', class_='author').text extracts the author's name.\n",
        "* quote.find_all('a', class_='tag') extracts all tags associated with the quote."
      ],
      "metadata": {
        "id": "CGCWUtpOg3Ap"
      }
    },
    {
      "cell_type": "markdown",
      "source": [
        "# **Step 5: Storing Data in a DataFrame**"
      ],
      "metadata": {
        "id": "dr9DD3ygg5kJ"
      }
    },
    {
      "cell_type": "markdown",
      "source": [
        "We'll store the extracted data in a pandas DataFrame and save it to a CSV file.\n",
        "\n",
        "\n"
      ],
      "metadata": {
        "id": "2bJAF5slhMyT"
      }
    },
    {
      "cell_type": "code",
      "source": [
        "# Create a DataFrame\n",
        "df = pd.DataFrame(quotes_data)\n",
        "\n",
        "# Display the DataFrame\n",
        "print(df)\n",
        "\n",
        "# Save the data to a CSV file\n",
        "df.to_csv('quotes.csv', index=False)\n",
        "print(\"Data saved to quotes.csv\")\n"
      ],
      "metadata": {
        "colab": {
          "base_uri": "https://localhost:8080/"
        },
        "id": "331j-dTBhRAU",
        "outputId": "890fa49d-abee-489b-e53e-917eb0a9193c"
      },
      "execution_count": 6,
      "outputs": [
        {
          "output_type": "stream",
          "name": "stdout",
          "text": [
            "                                               Quote             Author  \\\n",
            "0  “The world as we have created it is a process ...    Albert Einstein   \n",
            "1  “It is our choices, Harry, that show what we t...       J.K. Rowling   \n",
            "2  “There are only two ways to live your life. On...    Albert Einstein   \n",
            "3  “The person, be it gentleman or lady, who has ...        Jane Austen   \n",
            "4  “Imperfection is beauty, madness is genius and...     Marilyn Monroe   \n",
            "5  “Try not to become a man of success. Rather be...    Albert Einstein   \n",
            "6  “It is better to be hated for what you are tha...         André Gide   \n",
            "7  “I have not failed. I've just found 10,000 way...   Thomas A. Edison   \n",
            "8  “A woman is like a tea bag; you never know how...  Eleanor Roosevelt   \n",
            "9  “A day without sunshine is like, you know, nig...       Steve Martin   \n",
            "\n",
            "                                           Tags  \n",
            "0        change, deep-thoughts, thinking, world  \n",
            "1                            abilities, choices  \n",
            "2  inspirational, life, live, miracle, miracles  \n",
            "3              aliteracy, books, classic, humor  \n",
            "4                    be-yourself, inspirational  \n",
            "5                     adulthood, success, value  \n",
            "6                                    life, love  \n",
            "7   edison, failure, inspirational, paraphrased  \n",
            "8               misattributed-eleanor-roosevelt  \n",
            "9                        humor, obvious, simile  \n",
            "Data saved to quotes.csv\n"
          ]
        }
      ]
    },
    {
      "cell_type": "markdown",
      "source": [
        "Explanation:\n",
        "* pd.DataFrame(quotes_data) creates a DataFrame from the extracted data.\n",
        "* df.to_csv('quotes.csv', index=False) saves the DataFrame to a CSV file named quotes.csv."
      ],
      "metadata": {
        "id": "PiH_G0-ShT_j"
      }
    },
    {
      "cell_type": "markdown",
      "source": [
        "**Example in Complete way -->**"
      ],
      "metadata": {
        "id": "l69q3PtHhX0D"
      }
    },
    {
      "cell_type": "code",
      "source": [
        "import requests\n",
        "from bs4 import BeautifulSoup\n",
        "import pandas as pd\n",
        "\n",
        "# URL to scrape\n",
        "url = 'http://quotes.toscrape.com'\n",
        "\n",
        "# Send a GET request\n",
        "response = requests.get(url)\n",
        "\n",
        "# Check if request was successful\n",
        "if response.status_code == 200:\n",
        "    soup = BeautifulSoup(response.text, 'html.parser')\n",
        "\n",
        "    # Extracting quotes, authors, and tags\n",
        "    quotes_data = []\n",
        "    quotes = soup.find_all('div', class_='quote')\n",
        "\n",
        "    for quote in quotes:\n",
        "        text = quote.find('span', class_='text').text\n",
        "        author = quote.find('small', class_='author').text\n",
        "        tags = [tag.text for tag in quote.find_all('a', class_='tag')]\n",
        "\n",
        "        quotes_data.append({\n",
        "            'Quote': text,\n",
        "            'Author': author,\n",
        "            'Tags': ', '.join(tags)\n",
        "        })\n",
        "\n",
        "    # Create DataFrame and save to CSV\n",
        "    df = pd.DataFrame(quotes_data)\n",
        "    df.to_csv('quotes.csv', index=False)\n",
        "    print(\"Data saved to quotes.csv\")\n",
        "else:\n",
        "    print(f\"Failed to fetch the web page. Status Code: {response.status_code}\")\n"
      ],
      "metadata": {
        "colab": {
          "base_uri": "https://localhost:8080/"
        },
        "id": "UzmFmZIbhc8U",
        "outputId": "81add1c4-890d-41e8-a420-f37e75457b86"
      },
      "execution_count": 7,
      "outputs": [
        {
          "output_type": "stream",
          "name": "stdout",
          "text": [
            "Data saved to quotes.csv\n"
          ]
        }
      ]
    },
    {
      "cell_type": "markdown",
      "source": [
        "**Summary**\n",
        "* **Fetching Webpage:** We used requests to send an HTTP GET request to the webpage.\n",
        "* **Parsing HTML:** We used BeautifulSoup to parse and extract specific elements like quotes, authors, and tags.\n",
        "* **Data Storage:** We stored the extracted data in a pandas DataFrame and saved it to a CSV file for further analysis.\n",
        "\n",
        "\n",
        "\n",
        "Web scraping can be a powerful tool for collecting data from the web, but always remember to respect the website's --.txt file and terms of service."
      ],
      "metadata": {
        "id": "oc3ALhQShj0D"
      }
    }
  ]
}